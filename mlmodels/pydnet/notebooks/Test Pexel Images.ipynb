{
 "cells": [
  {
   "cell_type": "markdown",
   "id": "ffb242fb",
   "metadata": {},
   "source": [
    "## Setup"
   ]
  },
  {
   "cell_type": "code",
   "execution_count": 1,
   "id": "7f614965",
   "metadata": {},
   "outputs": [],
   "source": [
    "# Import required modules.\n",
    "import os\n",
    "import glob\n",
    "import cv2\n",
    "import numpy as np\n",
    "import tensorflow as tf\n",
    "import matplotlib.pyplot as plt\n",
    "from pathlib import Path\n",
    "from tqdm import tqdm\n",
    "from pydnet.data import KITTI\n",
    "from pydnet.models import Pydnet\n",
    "from IPython.display import Image, display\n",
    "\n",
    "\n",
    "# Path to PyDnet pretrained checkpoint.\n",
    "CHECK_PATH = Path(\"../\")\\\n",
    "    / \"data\"\\\n",
    "    / \"checkpoint\"\\\n",
    "    / \"pydnet\"\\\n",
    "    / \"pydnet\"\n",
    "\n",
    "# Path to input file directory.\n",
    "ORIG_PATH = Path(\"../\")\\\n",
    "    / \"data\"\\\n",
    "    / \"pexels\"\n",
    "\n",
    "# Path to output.\n",
    "DEST_PATH = Path(\"../\")\\\n",
    "    / \"reports\"\\\n",
    "    / \"figures\"\n",
    "\n",
    "# Maximum depth value.\n",
    "MAX_DEPTH = 80.0\n",
    "\n",
    "\n",
    "# Disable Tensorflow warning messages.\n",
    "os.environ[\"TF_CPP_MIN_LOG_LEVEL\"] = \"2\" \n",
    "\n",
    "# Run Tensorflow in earger mode.\n",
    "#if tf.executing_eagerly():\n",
    "#   tf.disable_eager_execution()"
   ]
  },
  {
   "cell_type": "markdown",
   "id": "49259958",
   "metadata": {},
   "source": [
    "## Load PyDnet"
   ]
  },
  {
   "cell_type": "code",
   "execution_count": 2,
   "id": "44e0228d",
   "metadata": {},
   "outputs": [],
   "source": [
    "# Load test images.\n",
    "images = list(ORIG_PATH.glob(\"*.png\"))\n",
    "placeholder = tf.placeholder(tf.float32, shape=(320, 640, 3))\n",
    "batch = tf.expand_dims(placeholder, 0)\n",
    "\n",
    "# Build PydNet.\n",
    "network = Pydnet({\n",
    "    \"h\": 320,\n",
    "    \"w\": 640,\n",
    "    \"is_training\": False\n",
    "})"
   ]
  },
  {
   "cell_type": "markdown",
   "id": "9f21b610",
   "metadata": {},
   "source": [
    "## Start Tensorflow session"
   ]
  },
  {
   "cell_type": "code",
   "execution_count": 3,
   "id": "347148a5",
   "metadata": {},
   "outputs": [],
   "source": [
    "# Setup test images feeding placeholder.\n",
    "pred = network.forward(batch)\n",
    "pred = tf.nn.relu(pred)\n",
    "\n",
    "# Setup Tensorflow session and restore checkpoint.\n",
    "save = tf.train.Saver()\n",
    "sess = tf.Session()\n",
    "sess.run(tf.global_variables_initializer())\n",
    "save.restore(sess, str(CHECK_PATH))"
   ]
  },
  {
   "cell_type": "markdown",
   "id": "cede4884",
   "metadata": {},
   "source": [
    "## Run inference on test images"
   ]
  },
  {
   "cell_type": "code",
   "execution_count": 5,
   "id": "b33ffffd",
   "metadata": {},
   "outputs": [
    {
     "name": "stderr",
     "output_type": "stream",
     "text": [
      "100%|███████████████████████████████████████████████████████████████████████████████████████████████████████████████████████████████████████████████████████████████████████████████████████████████████████████| 4/4 [00:01<00:00,  3.51it/s]\n"
     ]
    }
   ],
   "source": [
    "# Makedir output directory.\n",
    "DEST_PATH.mkdir(\n",
    "    parents=True,\n",
    "    exist_ok=True)\n",
    "\n",
    "# Run inference on test images.\n",
    "for i in tqdm(range(len(images))):\n",
    "    image = cv2.imread(str(images[i]))\n",
    "    image = cv2.cvtColor(image, cv2.COLOR_BGR2RGB)\n",
    "    h, w, _ = image.shape\n",
    "    image = cv2.resize(image, (640, 320))\n",
    "    image = image / 255.0\n",
    "    dep = sess.run(\n",
    "        pred,\n",
    "        feed_dict={placeholder: image})\n",
    "    dep = np.squeeze(dep)\n",
    "    min_dep = dep.min()\n",
    "    max_dep = dep.max()\n",
    "    dep = (dep - min_dep) / (max_dep - min_dep)\n",
    "    dep *= 255.0\n",
    "    dep = cv2.resize(dep, (w, h))\n",
    "    plt.imsave(\n",
    "        str(DEST_PATH / f\"{images[i].stem}.png\"),\n",
    "        dep,\n",
    "        cmap=\"magma\")\n",
    "\n",
    "# Display resulting image.\n",
    "#for i in range(len(images)):\n",
    "#    display(Image(filename=str(images[i])))\n",
    "#    display(Image(filename=str(DEST_PATH / f\"{images[i].stem}.png\")))"
   ]
  },
  {
   "cell_type": "code",
   "execution_count": null,
   "id": "76113f6c",
   "metadata": {},
   "outputs": [],
   "source": []
  }
 ],
 "metadata": {
  "kernelspec": {
   "display_name": "Python 3 (ipykernel)",
   "language": "python",
   "name": "python3"
  },
  "language_info": {
   "codemirror_mode": {
    "name": "ipython",
    "version": 3
   },
   "file_extension": ".py",
   "mimetype": "text/x-python",
   "name": "python",
   "nbconvert_exporter": "python",
   "pygments_lexer": "ipython3",
   "version": "3.7.3"
  }
 },
 "nbformat": 4,
 "nbformat_minor": 5
}
