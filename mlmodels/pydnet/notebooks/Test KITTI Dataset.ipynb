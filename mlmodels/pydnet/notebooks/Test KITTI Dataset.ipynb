{
 "cells": [
  {
   "cell_type": "markdown",
   "id": "c0e948a8",
   "metadata": {},
   "source": [
    "## Import Required Packages"
   ]
  },
  {
   "cell_type": "code",
   "execution_count": 8,
   "id": "5668d6f4",
   "metadata": {},
   "outputs": [],
   "source": [
    "import cv2\n",
    "import numpy as np\n",
    "import tensorflow.compat.v1 as tf1\n",
    "import tensorflow as tf2\n",
    "from tqdm import tqdm\n",
    "\n",
    "from pydnet.models import Pydnet"
   ]
  },
  {
   "cell_type": "code",
   "execution_count": null,
   "id": "645e4b5e",
   "metadata": {},
   "outputs": [],
   "source": []
  }
 ],
 "metadata": {
  "kernelspec": {
   "display_name": "Python 3 (ipykernel)",
   "language": "python",
   "name": "python3"
  },
  "language_info": {
   "codemirror_mode": {
    "name": "ipython",
    "version": 3
   },
   "file_extension": ".py",
   "mimetype": "text/x-python",
   "name": "python",
   "nbconvert_exporter": "python",
   "pygments_lexer": "ipython3",
   "version": "3.8.0"
  }
 },
 "nbformat": 4,
 "nbformat_minor": 5
}
