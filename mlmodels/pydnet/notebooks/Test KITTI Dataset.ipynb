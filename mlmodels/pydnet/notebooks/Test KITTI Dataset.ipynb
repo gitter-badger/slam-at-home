{
 "cells": [
  {
   "cell_type": "markdown",
   "id": "53eca95e",
   "metadata": {},
   "source": [
    "## Setup"
   ]
  },
  {
   "cell_type": "code",
   "execution_count": 1,
   "id": "ff20dbdb",
   "metadata": {},
   "outputs": [],
   "source": [
    "# Import required modules.\n",
    "import os\n",
    "import cv2\n",
    "import numpy as np\n",
    "import tensorflow.compat.v1 as tf1\n",
    "import tensorflow as tf2\n",
    "from pathlib import Path\n",
    "from tqdm import tqdm\n",
    "from pydnet.data import KITTI\n",
    "from pydnet.models import Pydnet\n",
    "\n",
    "\n",
    "# Path to KITTI dataset.\n",
    "KITTI_PATH = Path(\"../\")\\\n",
    "    / \"data\"\\\n",
    "    / \"mount\"\\\n",
    "    / \"KITTI\"\\\n",
    "    / \"raw_data\"\n",
    "\n",
    "# Path to dataset slice index.\n",
    "SLICE_PATH = Path(\"../\")\\\n",
    "    / \"data\"\\\n",
    "    / \"slices\"\\\n",
    "    / \"test_files.txt\"\n",
    "\n",
    "# Path to PyDnet pretrained checkpoint.\n",
    "CHECK_PATH = Path(\"../\")\\\n",
    "    / \"data\"\\\n",
    "    / \"checkpoint\"\\\n",
    "    / \"pydnet\"\\\n",
    "    / \"pydnet\"\n",
    "\n",
    "\n",
    "# Disable Tensorflow warning messages.\n",
    "os.environ[\"TF_CPP_MIN_LOG_LEVEL\"] = \"2\" \n",
    "\n",
    "# Run Tensorflow in earger mode.\n",
    "if tf1.executing_eagerly():\n",
    "   tf1.disable_eager_execution()\n",
    "\n",
    "\n",
    "# Utility functions.\n",
    "def read_lines(path: Path) -> list:\n",
    "    \"\"\"Read test files from path.\n",
    "    \"\"\"\n",
    "    assert path.exists()\n",
    "    with open(path, \"r\") as f:\n",
    "        lines = f.readlines()\n",
    "    return [l.strip() for l in lines]"
   ]
  },
  {
   "cell_type": "markdown",
   "id": "825809fa",
   "metadata": {},
   "source": [
    "## Load KITTI and PydNet"
   ]
  },
  {
   "cell_type": "code",
   "execution_count": 2,
   "id": "2f51b22d",
   "metadata": {},
   "outputs": [],
   "source": [
    "# Load KITTI dataset.\n",
    "dataset = KITTI({\n",
    "    \"h\": 320,\n",
    "    \"w\": 640,\n",
    "    \"path\": KITTI_PATH,\n",
    "    \"slice\": SLICE_PATH\n",
    "})\n",
    "\n",
    "# Build PydNet.\n",
    "network = Pydnet({\n",
    "    \"h\": 320,\n",
    "    \"w\": 640,\n",
    "    \"is_training\": False\n",
    "})"
   ]
  },
  {
   "cell_type": "markdown",
   "id": "b9e1f2e1",
   "metadata": {},
   "source": [
    "## Start Tensorflow Session and Run Inference"
   ]
  },
  {
   "cell_type": "code",
   "execution_count": 3,
   "id": "06ae05c7",
   "metadata": {},
   "outputs": [
    {
     "name": "stdout",
     "output_type": "stream",
     "text": [
      "INFO:tensorflow:Restoring parameters from ../data/checkpoint/pydnet/pydnet\n"
     ]
    }
   ],
   "source": [
    "# Setup KITTI dataset feeding placeholder.\n",
    "pred = network.forward(dataset.batch)\n",
    "pred = tf1.nn.relu(pred)\n",
    "\n",
    "# Setup Tensorflow session and restore checkpoint.\n",
    "save = tf1.train.Saver()\n",
    "sess = tf1.Session()\n",
    "sess.run(tf1.global_variables_initializer())\n",
    "sess.run(dataset.initializer)\n",
    "save.restore(sess, str(CHECK_PATH))"
   ]
  },
  {
   "cell_type": "code",
   "execution_count": null,
   "id": "630394cd",
   "metadata": {},
   "outputs": [],
   "source": []
  }
 ],
 "metadata": {
  "kernelspec": {
   "display_name": "Python 3 (ipykernel)",
   "language": "python",
   "name": "python3"
  },
  "language_info": {
   "codemirror_mode": {
    "name": "ipython",
    "version": 3
   },
   "file_extension": ".py",
   "mimetype": "text/x-python",
   "name": "python",
   "nbconvert_exporter": "python",
   "pygments_lexer": "ipython3",
   "version": "3.8.0"
  }
 },
 "nbformat": 4,
 "nbformat_minor": 5
}
