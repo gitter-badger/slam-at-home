{
 "cells": [
  {
   "cell_type": "markdown",
   "id": "99e1e3e1",
   "metadata": {},
   "source": [
    "## Setup"
   ]
  },
  {
   "cell_type": "code",
   "execution_count": 19,
   "id": "9d925107",
   "metadata": {},
   "outputs": [],
   "source": [
    "import cv2\n",
    "import numpy as np\n",
    "import tensorflow.compat.v1 as tf1\n",
    "import tensorflow as tf2\n",
    "from pathlib import Path\n",
    "from tqdm import tqdm\n",
    "from pydnet.data import KITTI\n",
    "from pydnet.models import Pydnet\n",
    "\n",
    "KITTI_PATH = Path(\"../\")\\\n",
    "    / \"data\"\\\n",
    "    / \"mount\"\\\n",
    "    / \"KITTI\"\n",
    "\n",
    "SLICE_PATH = Path(\"../\")\\\n",
    "    / \"data\"\\\n",
    "    / \"slices\"\\\n",
    "    / \"test_files.txt\"\n",
    "\n",
    "if tf1.executing_eagerly():\n",
    "   tf1.disable_eager_execution()"
   ]
  },
  {
   "cell_type": "markdown",
   "id": "5c713482",
   "metadata": {},
   "source": [
    "## Utility Functions"
   ]
  },
  {
   "cell_type": "code",
   "execution_count": null,
   "id": "10db9102",
   "metadata": {},
   "outputs": [],
   "source": [
    "def read_test_files(test_file) -> list:\n",
    "    \"\"\"Read test files from txt file\n",
    "    \"\"\"\n",
    "    assert os.path.exists(test_file)\n",
    "    with open(test_file, \"r\") as f:\n",
    "        lines = f.readlines()\n",
    "    lines = [l.strip() for l in lines]\n",
    "    return lines"
   ]
  },
  {
   "cell_type": "markdown",
   "id": "73a4ab2e",
   "metadata": {},
   "source": [
    "## Load KITTI and PydNet"
   ]
  },
  {
   "cell_type": "code",
   "execution_count": 21,
   "id": "30fa1c8b",
   "metadata": {},
   "outputs": [],
   "source": [
    "dataset = KITTI({\n",
    "    \"h\": 320,\n",
    "    \"w\": 640,\n",
    "    \"path\": KITTI_PATH,\n",
    "    \"slice\": SLICE_PATH\n",
    "})\n",
    "\n",
    "network = Pydnet({\n",
    "    \"h\": 320,\n",
    "    \"w\": 640,\n",
    "    \"is_training\": False\n",
    "})"
   ]
  },
  {
   "cell_type": "markdown",
   "id": "11febd4c",
   "metadata": {},
   "source": [
    "## "
   ]
  }
 ],
 "metadata": {
  "kernelspec": {
   "display_name": "Python 3 (ipykernel)",
   "language": "python",
   "name": "python3"
  },
  "language_info": {
   "codemirror_mode": {
    "name": "ipython",
    "version": 3
   },
   "file_extension": ".py",
   "mimetype": "text/x-python",
   "name": "python",
   "nbconvert_exporter": "python",
   "pygments_lexer": "ipython3",
   "version": "3.8.0"
  }
 },
 "nbformat": 4,
 "nbformat_minor": 5
}
